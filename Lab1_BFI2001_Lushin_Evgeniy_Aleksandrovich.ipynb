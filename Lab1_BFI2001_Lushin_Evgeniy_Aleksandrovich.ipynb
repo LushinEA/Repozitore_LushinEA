{
 "cells": [
  {
   "cell_type": "markdown",
   "id": "c6d19f52",
   "metadata": {},
   "source": [
    "# Лабораторная работа №1\n",
    "## Выполнил студент группы БФИ2001 Лушин Евгений Александрович\n",
    "### Задание №1\n",
    "Описание условия задания"
   ]
  },
  {
   "cell_type": "code",
   "execution_count": null,
   "id": "dd42de4a",
   "metadata": {
    "scrolled": true
   },
   "outputs": [],
   "source": [
    "print(\"Hello World!\")"
   ]
  },
  {
   "cell_type": "markdown",
   "id": "53982764",
   "metadata": {},
   "source": [
    "### Задание №2\n",
    "Написать генератор случайных матриц(многомерных), который принимает опциональные параметры m, n, min_limit, max_limit, где m и n указывают размер матрицы, а min_lim и max_lim - минимальное и максимальное значение для генерируемого числа . По умолчанию при отсутствии параметров принимать следующие значения: m=50, n=50, min_limit=-250, max_limit=1000 + (номер своего варианта)."
   ]
  },
  {
   "cell_type": "code",
   "execution_count": 2,
   "id": "30201b1b",
   "metadata": {},
   "outputs": [
    {
     "name": "stdout",
     "output_type": "stream",
     "text": [
      "Введите количество строк: 3\n",
      "Введите количество столбцов: 3\n",
      "Введите минимальное значение генерируемого числа: 0\n",
      "Введите максимальное значение генерируемого числа: 5\n",
      "[4, 4, 1]\n",
      "[2, 0, 4]\n",
      "[5, 3, 1]\n"
     ]
    }
   ],
   "source": [
    "import numpy as np\n",
    "import random\n",
    "import copy\n",
    "import math\n",
    "\n",
    "def is_number(stroka):\n",
    "    try:\n",
    "        float(stroka)\n",
    "        return True\n",
    "    except ValueError:\n",
    "        return False\n",
    "\n",
    "while True:\n",
    "    m = input(\"Введите количество строк: \")\n",
    "    if m == '':\n",
    "        print(\"Вы не ввели число. Количество строк будет принято за 50.\")\n",
    "        m = 50\n",
    "        break\n",
    "    elif not m.isnumeric():\n",
    "        print(\"Вы ввели не число. Попробуйте снова.\")\n",
    "    else:\n",
    "        m = int(m)\n",
    "        break\n",
    "        \n",
    "while True:\n",
    "    n = input(\"Введите количество столбцов: \")\n",
    "    if n == '':\n",
    "        print(\"Вы не ввели число. Количество столбцов будет принято за 50.\")\n",
    "        n = 50\n",
    "        break\n",
    "    elif not n.isnumeric():\n",
    "        print(\"Вы ввели не число. Попробуйте снова.\")\n",
    "    else:\n",
    "        n = int(n)\n",
    "        break\n",
    "        \n",
    "while True:\n",
    "    min_limit = input(\"Введите минимальное значение генерируемого числа: \")\n",
    "    if min_limit == '':\n",
    "        print(\"Вы не ввели число. Минимальное значение генерируемого числа будет принято за -250.\")\n",
    "        min_limit = -250\n",
    "        break\n",
    "    elif is_number(min_limit)==False:\n",
    "        print(\"Вы ввели не число. Попробуйте снова.\")\n",
    "    else:\n",
    "        min_limit = int(min_limit)\n",
    "        break\n",
    "        \n",
    "while True:\n",
    "    max_limit = input(\"Введите максимальное значение генерируемого числа: \")\n",
    "    if max_limit == '':\n",
    "        print(\"Вы не ввели число. Максимальное значение генерируемого числа будет принято за 1013.\")\n",
    "        max_limit = 1013\n",
    "        break\n",
    "    elif is_number(max_limit)==False:\n",
    "        print(\"Вы ввели не число. Попробуйте снова.\")\n",
    "    else:\n",
    "        max_limit = int(max_limit)\n",
    "        break\n",
    "        \n",
    "#matrix = np.random.uniform(min_limit, max_limit, size=(m, n))\n",
    "#print(matrix)\n",
    "matrix = [[random.randint(int(min_limit),int(max_limit)) for j in range(int(n))] for i in range(int(m))]\n",
    "for i in range(int(m)):\n",
    "    print(matrix[i])"
   ]
  },
  {
   "cell_type": "markdown",
   "id": "6f0f7935",
   "metadata": {},
   "source": [
    "### Задание №3\n",
    "Реализовать заданные методы сортировки строк числовой матрицы. Оценить время работы каждого алгоритма сортировки и сравнить его со временем стандартной функции сортировки, используемой в выбранном языке программирования.\n",
    "\n",
    "#### 1. Сортировка выбором"
   ]
  },
  {
   "cell_type": "code",
   "execution_count": null,
   "id": "a0670618",
   "metadata": {},
   "outputs": [],
   "source": [
    "%%time\n",
    "def selection_sort(array):\n",
    "    for i in range(0, n - 1):\n",
    "        smallest = i\n",
    "        for j in range(i + 1, len(array)):\n",
    "            if array[j] < array[smallest]:\n",
    "                smallest = j\n",
    "        array[i], array[smallest] = array[smallest], array[i]\n",
    "    return array\n",
    "        \n",
    "print('Исходная матрица')\n",
    "for k in range(int(m)):\n",
    "    print(matrix[k])\n",
    "\n",
    "print('Отсортированная матрица')\n",
    "selection_sort_matrix = copy.deepcopy(matrix)\n",
    "for k in range(int(m)):\n",
    "    print(selection_sort(selection_sort_matrix[k]))"
   ]
  },
  {
   "cell_type": "markdown",
   "id": "842c9529",
   "metadata": {},
   "source": [
    "#### 2. Сортировка вставкой"
   ]
  },
  {
   "cell_type": "code",
   "execution_count": null,
   "id": "e73e3a28",
   "metadata": {},
   "outputs": [],
   "source": [
    "%%time\n",
    "def insertion_sort(array):\n",
    "    for i in range(1, n):\n",
    "        temp = array[i]\n",
    "        j = i - 1\n",
    "        while (j >= 0 and temp < array[j]):\n",
    "            array[j + 1] = array[j]\n",
    "            j = j - 1\n",
    "        array[j + 1] = temp\n",
    "    return array\n",
    "\n",
    "print('Исходная матрица')\n",
    "for k in range(int(m)):\n",
    "    print(matrix[k])\n",
    "\n",
    "print('Отсортированная матрица')\n",
    "insertion_sort_matrix = copy.deepcopy(matrix)\n",
    "for k in range(int(m)):\n",
    "    print(insertion_sort(insertion_sort_matrix[k]))"
   ]
  },
  {
   "cell_type": "markdown",
   "id": "d5d32edb",
   "metadata": {},
   "source": [
    "#### 3. Сортировка обменом"
   ]
  },
  {
   "cell_type": "code",
   "execution_count": null,
   "id": "c327c81c",
   "metadata": {},
   "outputs": [],
   "source": [
    "%%time\n",
    "def swap_sort(array):\n",
    "    for k in range(0, m):\n",
    "        swapped = False\n",
    "        for i in range(n-1,0,-1):\n",
    "            for j in range(i):\n",
    "                if array[k][j]>array[k][j+1]:\n",
    "                    array[k][j], array[k][j+1] = array[k][j+1], array[k][j]\n",
    "                    swapped= True\n",
    "            if swapped:\n",
    "                swapped=False\n",
    "            else:\n",
    "                break\n",
    "\n",
    "swap_sort_matrix = matrix\n",
    "swap_sort(swap_sort_matrix)\n",
    "print(swap_sort_matrix)"
   ]
  },
  {
   "cell_type": "markdown",
   "id": "6191b7dd",
   "metadata": {},
   "source": [
    "#### 4. Сортировка Шелла"
   ]
  },
  {
   "cell_type": "code",
   "execution_count": null,
   "id": "84a13216",
   "metadata": {},
   "outputs": [],
   "source": [
    "%%time\n",
    "def Shell_sort(array):\n",
    "    p = int(math.log2(n))\n",
    "    interval = 2**p -1\n",
    "    while interval > 0:\n",
    "        for i in range(interval, n):\n",
    "            temp = array[i]\n",
    "            j = i\n",
    "            while j >= interval and array[j - interval] > temp:\n",
    "                array[j] = array[j - interval]\n",
    "                j -= interval\n",
    "            array[j] = temp\n",
    "        p -= 1\n",
    "        interval = 2**p -1\n",
    "    return array\n",
    "\n",
    "print('Исходная матрица')\n",
    "for k in range(int(m)):\n",
    "    print(matrix[k])\n",
    "\n",
    "print('Отсортированная матрица')\n",
    "Shell_sort_matrix = copy.deepcopy(matrix)\n",
    "for k in range(int(m)):\n",
    "    print(Shell_sort(Shell_sort_matrix[k]))"
   ]
  },
  {
   "cell_type": "markdown",
   "id": "a18e190b",
   "metadata": {},
   "source": [
    "#### 5. Сортировка турнирная"
   ]
  },
  {
   "cell_type": "code",
   "execution_count": null,
   "id": "d6022635",
   "metadata": {},
   "outputs": [],
   "source": []
  },
  {
   "cell_type": "markdown",
   "id": "b4df6ee6",
   "metadata": {},
   "source": [
    "#### 6. Быстрая сортировка"
   ]
  },
  {
   "cell_type": "code",
   "execution_count": null,
   "id": "6a8577b7",
   "metadata": {},
   "outputs": [],
   "source": [
    "def quick_sort(array):\n",
    "    if len(array)> 1:\n",
    "        pivot=array.pop()\n",
    "        grtr_lst, equal_lst, smlr_lst = [], [pivot], []\n",
    "        for item in array:\n",
    "            if item == pivot:\n",
    "                equal_lst.append(item)\n",
    "            elif item > pivot:\n",
    "                grtr_lst.append(item)\n",
    "            else:\n",
    "                smlr_lst.append(item)\n",
    "        return (quick_sort(smlr_lst) + equal_lst + quick_sort(grtr_lst))\n",
    "    else:\n",
    "        return array\n",
    "    \n",
    "print('Исходная матрица')\n",
    "for k in range(int(m)):\n",
    "    print(matrix[k])\n",
    "\n",
    "print('Отсортированная матрица')\n",
    "quick_sort_matrix = copy.deepcopy(matrix)\n",
    "for k in range(int(m)):\n",
    "    print(quick_sort(quick_sort_matrix[k]))"
   ]
  },
  {
   "cell_type": "markdown",
   "id": "ec60ff0e",
   "metadata": {},
   "source": [
    "#### 7. Пирамидальная"
   ]
  },
  {
   "cell_type": "code",
   "execution_count": 3,
   "id": "f8f00fb9",
   "metadata": {},
   "outputs": [
    {
     "name": "stdout",
     "output_type": "stream",
     "text": [
      "Исходная матрица\n",
      "[4, 4, 1]\n",
      "[2, 0, 4]\n",
      "[5, 3, 1]\n",
      "Отсортированная матрица\n",
      "[1, 4, 4]\n",
      "[0, 2, 4]\n",
      "[1, 3, 5]\n"
     ]
    }
   ],
   "source": [
    "def heapify(array, n, i):\n",
    "    largest = i\n",
    "    l = 2 * i + 1\n",
    "    r = 2 * i + 2\n",
    "    \n",
    "    if l < n and array[i] < array[l]:\n",
    "        largest = l\n",
    "    if r < n and array[largest] < array[r]:\n",
    "        largest = r\n",
    "    \n",
    "    if largest != i:\n",
    "        array[i], array[largest] = array[largest], array[i]\n",
    "        heapify(array, n, largest)\n",
    "        \n",
    "def heap_sort(array):\n",
    "    n = len(array)\n",
    "    for i in range(n//2, -1, -1):\n",
    "        heapify(array, n, i)\n",
    "    for i in range(n-1, 0, -1):\n",
    "        array[i], array[0] = array[0], array[i]\n",
    "        heapify(array, i, 0)\n",
    "    return array\n",
    "\n",
    "print('Исходная матрица')\n",
    "for k in range(int(m)):\n",
    "    print(matrix[k])\n",
    "\n",
    "print('Отсортированная матрица')\n",
    "heap_sort_matrix = copy.deepcopy(matrix)\n",
    "for k in range(int(m)):\n",
    "    print(heap_sort(heap_sort_matrix[k]))"
   ]
  },
  {
   "cell_type": "markdown",
   "id": "fd2c2878",
   "metadata": {},
   "source": [
    "#### 8. Стандартная функция сортировки"
   ]
  },
  {
   "cell_type": "code",
   "execution_count": null,
   "id": "1653baf2",
   "metadata": {},
   "outputs": [],
   "source": [
    "%%time\n",
    "print('Исходная матрица')\n",
    "for k in range(int(m)):\n",
    "    print(matrix[k])\n",
    "\n",
    "print('Отсортированная матрица')\n",
    "sorted_matrix = copy.deepcopy(matrix)\n",
    "for k in range(int(m)):\n",
    "    print(sorted(sorted_matrix[k]))"
   ]
  }
 ],
 "metadata": {
  "kernelspec": {
   "display_name": "Python 3 (ipykernel)",
   "language": "python",
   "name": "python3"
  },
  "language_info": {
   "codemirror_mode": {
    "name": "ipython",
    "version": 3
   },
   "file_extension": ".py",
   "mimetype": "text/x-python",
   "name": "python",
   "nbconvert_exporter": "python",
   "pygments_lexer": "ipython3",
   "version": "3.9.7"
  }
 },
 "nbformat": 4,
 "nbformat_minor": 5
}
